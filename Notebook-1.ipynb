{
 "cells": [
  {
   "cell_type": "markdown",
   "metadata": {},
   "source": [
    "## From the course Python Data Analysis by Michele Vallisneri from LinkedIn Learning"
   ]
  },
  {
   "cell_type": "markdown",
   "metadata": {},
   "source": [
    "Basic loops and Python Warmup"
   ]
  },
  {
   "cell_type": "code",
   "execution_count": 16,
   "metadata": {},
   "outputs": [],
   "source": [
    "import math\n",
    "import collections\n",
    "\n",
    "import numpy as np\n",
    "import pandas as pd\n",
    "import matplotlib.pyplot as pp\n",
    "\n",
    "%matplotlib inline"
   ]
  },
  {
   "cell_type": "code",
   "execution_count": 1,
   "metadata": {},
   "outputs": [
    {
     "name": "stdout",
     "output_type": "stream",
     "text": [
      "0\n",
      "1\n",
      "2\n",
      "3\n",
      "4\n",
      "5\n",
      "6\n",
      "7\n",
      "8\n",
      "9\n"
     ]
    }
   ],
   "source": [
    "for i in range(0,10):\n",
    "    print(i)"
   ]
  },
  {
   "cell_type": "code",
   "execution_count": 2,
   "metadata": {},
   "outputs": [
    {
     "name": "stdout",
     "output_type": "stream",
     "text": [
      "0\n",
      "2\n",
      "4\n",
      "6\n",
      "8\n"
     ]
    }
   ],
   "source": [
    "for i in range(0,10,2):\n",
    "    print(i)"
   ]
  },
  {
   "cell_type": "code",
   "execution_count": 13,
   "metadata": {},
   "outputs": [],
   "source": [
    "# A dollar can be made of 100 hundred cents, or 2 fifty cents, 4 twenty-five cents etc.\n",
    "# Let's make a program to find out how many combinations can exist for differen amounts of dollars\n",
    "\n",
    "def find_combinations(total_dollars): 'total_dollars amount to be entered in cents when calling the Function'\n",
    "    combination_amounts=[]\n",
    "    \n",
    "    for amount_100 in range(0, total_dollars+1, 100):\n",
    "        for amount_50 in range(0, total_dollars+1, 50):\n",
    "            for amount_25 in range(0, total_dollars+1, 25):\n",
    "                for amount_10 in range(0, total_dollars+1, 10):\n",
    "                    for amount_5 in range(0, total_dollars+1, 5):\n",
    "                        total_so_far = amount_100 + amount_50 + amount_25 + amount_10 + amount_5\n",
    "                        \n",
    "                        if total_so_far <= total_dollars:\n",
    "                            combination_amounts.append([amount_100, amount_50, amount_25, amount_10, amount_5, total_dollars - total_so_far])\n",
    "    return combination_amounts"
   ]
  },
  {
   "cell_type": "code",
   "execution_count": 14,
   "metadata": {},
   "outputs": [
    {
     "name": "stdout",
     "output_type": "stream",
     "text": [
      "293\n"
     ]
    }
   ],
   "source": [
    "print(len(find_combinations(100)))"
   ]
  },
  {
   "cell_type": "code",
   "execution_count": 17,
   "metadata": {},
   "outputs": [
    {
     "name": "stdout",
     "output_type": "stream",
     "text": [
      "2728\n"
     ]
    }
   ],
   "source": [
    "print(len(find_combinations(200)))"
   ]
  },
  {
   "cell_type": "code",
   "execution_count": 19,
   "metadata": {},
   "outputs": [],
   "source": [
    "'Create a graph for seeing how the combinations increase as dollar value increases'\n",
    "\n",
    "totals = range(0,1000,100) 'This is a very intensive operations, do not execute it repeatedly or with larger numbers'\n",
    "\n",
    "combinations=[len(find_combinations(total)) for total in totals]"
   ]
  },
  {
   "cell_type": "code",
   "execution_count": 20,
   "metadata": {},
   "outputs": [
    {
     "data": {
      "text/plain": [
       "[<matplotlib.lines.Line2D at 0xf95cb10>]"
      ]
     },
     "execution_count": 20,
     "metadata": {},
     "output_type": "execute_result"
    },
    {
     "data": {
      "image/png": "[encoded data removed]",
      "text/plain": [
       "<Figure size 432x288 with 1 Axes>"
      ]
     },
     "metadata": {
      "needs_background": "light"
     },
     "output_type": "display_data"
    }
   ],
   "source": [
    "pp.plot(totals,combinations)"
   ]
  },
  {
   "cell_type": "code",
   "execution_count": 34,
   "metadata": {},
   "outputs": [
    {
     "name": "stdout",
     "output_type": "stream",
     "text": [
      "0,1,4,9,16,\n",
      "[0, 1, 4, 9, 16]\n",
      "[0, 4, 16]\n"
     ]
    }
   ],
   "source": [
    "# List comprehension example for LIST\n",
    "\n",
    "for i in range(0,5): #Regular FOR loop\n",
    "    square=i*i\n",
    "    print(square, end=',')\n",
    "    \n",
    "print()\n",
    "square_list = [i*i for i in range(0,5)] #using LIST COMPREHENSION\n",
    "print(square_list)\n",
    "\n",
    "square_list=[]\n",
    "square_list = [i*i for i in range(0,5) if i*i %4==0] #using LIST COMPREHENSION with IF condition\n",
    "print(square_list)"
   ]
  },
  {
   "cell_type": "code",
   "execution_count": 39,
   "metadata": {},
   "outputs": [
    {
     "name": "stdout",
     "output_type": "stream",
     "text": [
      "{0: 0, 1: 1, 2: 8, 3: 27, 4: 64, 5: 125, 6: 216}\n",
      "Original:{'Gujarat': 'Gandhinagar', 'Rajasthan': 'Jaipur', 'New Delhi': 'New Delhi'}\n",
      "Swapped:{'Gandhinagar': 'Gujarat', 'Jaipur': 'Rajasthan', 'New Delhi': 'New Delhi'}\n"
     ]
    }
   ],
   "source": [
    "# List comprehension example for DICTIONARY\n",
    "\n",
    "cube_list = {i:i**3 for i in range(0,7)}\n",
    "print(cube_list)\n",
    "\n",
    "# Swapping Key-Value paris in a DICT\n",
    "dict1 = {'Gujarat':'Gandhinagar', 'Rajasthan':'Jaipur', 'New Delhi':'New Delhi'}\n",
    "dict2 = {capital:state for state, capital in dict1.items()}\n",
    "\n",
    "print(f\"Original:{dict1}\")\n",
    "print(f\"Swapped:{dict2}\")"
   ]
  },
  {
   "cell_type": "code",
   "execution_count": 41,
   "metadata": {},
   "outputs": [
    {
     "data": {
      "text/plain": [
       "10"
      ]
     },
     "execution_count": 41,
     "metadata": {},
     "output_type": "execute_result"
    }
   ],
   "source": [
    "# Using List Comprehension to directly calculate a sum\n",
    "\n",
    "sum(i for i in range(0,5))"
   ]
  },
  {
   "cell_type": "code",
   "execution_count": 44,
   "metadata": {},
   "outputs": [
    {
     "data": {
      "text/plain": [
       "[('Michele', 'Vallisneri', 'July 15'), ('Jocelyn', 'Bell Burnell', 'July 15')]"
      ]
     },
     "execution_count": 44,
     "metadata": {},
     "output_type": "execute_result"
    }
   ],
   "source": [
    "# List comprehension by using filter in a list of tuples\n",
    "people = [(\"Michele\", \"Vallisneri\", \"July 15\"),\n",
    "          (\"Albert\", \"Einstein\", \"March 14\"),\n",
    "          (\"John\", \"Lennon\", \"October 9\"),\n",
    "          (\"Jocelyn\", \"Bell Burnell\", \"July 15\")]\n",
    "[person for person in people if person[2]=='July 15']"
   ]
  },
  {
   "cell_type": "code",
   "execution_count": 53,
   "metadata": {},
   "outputs": [
    {
     "name": "stdout",
     "output_type": "stream",
     "text": [
      "person(firstname='michele', lastname='vallisneri', birthdate='July 15 1980')\n",
      "<class '__main__.person'>\n",
      "person(firstname='nikhil', lastname='sharma', birthdate='1 jan 2020')\n",
      "------------------------------\n",
      "nikhil\n"
     ]
    }
   ],
   "source": [
    "# Named Tuple\n",
    "\n",
    "persontype = collections.namedtuple('person', ['firstname', 'lastname', 'birthdate'])\n",
    "\n",
    "michele = persontype('michele', 'vallisneri', 'July 15 1980')\n",
    "\n",
    "print(f\"{michele}\")\n",
    "print(f\"{type(michele)}\")\n",
    "\n",
    "nikhil = persontype(lastname='sharma', birthdate='1 jan 2020', firstname='nikhil')\n",
    "print(f\"{nikhil}\")\n",
    "print(\"------------------------------\")\n",
    "print(f\"{nikhil.firstname}\")"
   ]
  },
  {
   "cell_type": "code",
   "execution_count": 57,
   "metadata": {},
   "outputs": [
    {
     "ename": "TypeError",
     "evalue": "__new__() missing 2 required positional arguments: 'lastname' and 'birthdate'",
     "output_type": "error",
     "traceback": [
      "\u001b[1;31m---------------------------------------------------------------------------\u001b[0m",
      "\u001b[1;31mTypeError\u001b[0m                                 Traceback (most recent call last)",
      "\u001b[1;32m<ipython-input-57-696671f8c20c>\u001b[0m in \u001b[0;36m<module>\u001b[1;34m\u001b[0m\n\u001b[1;32m----> 1\u001b[1;33m \u001b[0mpersontype\u001b[0m\u001b[1;33m(\u001b[0m\u001b[0mpeople\u001b[0m\u001b[1;33m[\u001b[0m\u001b[1;36m0\u001b[0m\u001b[1;33m]\u001b[0m\u001b[1;33m)\u001b[0m \u001b[1;31m#This will give error\u001b[0m\u001b[1;33m\u001b[0m\u001b[1;33m\u001b[0m\u001b[0m\n\u001b[0m",
      "\u001b[1;31mTypeError\u001b[0m: __new__() missing 2 required positional arguments: 'lastname' and 'birthdate'"
     ]
    }
   ],
   "source": [
    "persontype(people[0]) #This will give error"
   ]
  },
  {
   "cell_type": "code",
   "execution_count": 58,
   "metadata": {},
   "outputs": [
    {
     "data": {
      "text/plain": [
       "person(firstname='Michele', lastname='Vallisneri', birthdate='July 15')"
      ]
     },
     "execution_count": 58,
     "metadata": {},
     "output_type": "execute_result"
    }
   ],
   "source": [
    "persontype(*people[0]) #This works"
   ]
  },
  {
   "cell_type": "code",
   "execution_count": 60,
   "metadata": {},
   "outputs": [],
   "source": [
    "namedpeople = [persontype(*person) for person in people]"
   ]
  },
  {
   "cell_type": "code",
   "execution_count": 62,
   "metadata": {},
   "outputs": [],
   "source": [
    "from dataclasses import dataclass"
   ]
  },
  {
   "cell_type": "code",
   "execution_count": 65,
   "metadata": {},
   "outputs": [],
   "source": [
    "@dataclass\n",
    "class personclass:\n",
    "    firstname: str\n",
    "    lastname: str\n",
    "    birthday: str = 'unknown'"
   ]
  },
  {
   "cell_type": "code",
   "execution_count": 67,
   "metadata": {},
   "outputs": [
    {
     "name": "stdout",
     "output_type": "stream",
     "text": [
      "Michele\n",
      "unknown\n"
     ]
    }
   ],
   "source": [
    "michele = personclass('Michele', 'Vallisneri')\n",
    "\n",
    "print(michele.firstname)\n",
    "print(michele.birthday)"
   ]
  },
  {
   "cell_type": "code",
   "execution_count": 68,
   "metadata": {},
   "outputs": [
    {
     "data": {
      "text/plain": [
       "__main__.personclass"
      ]
     },
     "execution_count": 68,
     "metadata": {},
     "output_type": "execute_result"
    }
   ],
   "source": [
    "type(michele)"
   ]
  },
  {
   "cell_type": "code",
   "execution_count": 69,
   "metadata": {},
   "outputs": [],
   "source": [
    "@dataclass\n",
    "class personclass2:\n",
    "    firstname: str\n",
    "    lastname: str\n",
    "    birthday: str = 'unknown'\n",
    "    \n",
    "\n",
    "    def fullname(self):\n",
    "        return self.firstname + ' ' + self.lastname"
   ]
  },
  {
   "cell_type": "code",
   "execution_count": 70,
   "metadata": {},
   "outputs": [],
   "source": [
    "nikhil = personclass2('Nikhil', 'Sharma', '1 JAN')"
   ]
  },
  {
   "cell_type": "code",
   "execution_count": 72,
   "metadata": {},
   "outputs": [
    {
     "data": {
      "text/plain": [
       "'Nikhil Sharma'"
      ]
     },
     "execution_count": 72,
     "metadata": {},
     "output_type": "execute_result"
    }
   ],
   "source": [
    "nikhil.fullname()"
   ]
  }
 ],
 "metadata": {
  "kernelspec": {
   "display_name": "Python 3",
   "language": "python",
   "name": "python3"
  },
  "language_info": {
   "codemirror_mode": {
    "name": "ipython",
    "version": 3
   },
   "file_extension": ".py",
   "mimetype": "text/x-python",
   "name": "python",
   "nbconvert_exporter": "python",
   "pygments_lexer": "ipython3",
   "version": "3.7.3"
  }
 },
 "nbformat": 4,
 "nbformat_minor": 2
}
